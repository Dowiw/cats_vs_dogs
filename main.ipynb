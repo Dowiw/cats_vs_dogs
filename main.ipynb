{
 "cells": [
  {
   "cell_type": "markdown",
   "id": "ee62936a",
   "metadata": {},
   "source": [
    "Import libraries and define directories for data"
   ]
  },
  {
   "cell_type": "code",
   "execution_count": 2,
   "id": "36b433cd",
   "metadata": {},
   "outputs": [],
   "source": [
    "import tensorflow as tf\n",
    "import numpy as np\n",
    "import os\n",
    "import matplotlib.pyplot as plt\n",
    "\n",
    "# variables for directories (windows)\n",
    "TEST_DIR = \"C:/Users/Dowi/PycharmProjects/cats_vs_dogs/data/test/test1\"\n",
    "TRAIN_DIR = \"C:/Users/Dowi/PycharmProjects/cats_vs_dogs/data/train/train\""
   ]
  },
  {
   "cell_type": "markdown",
   "id": "9025ca45",
   "metadata": {},
   "source": []
  },
  {
   "cell_type": "code",
   "execution_count": null,
   "id": "0b8b6b0b",
   "metadata": {},
   "outputs": [
    {
     "ename": "",
     "evalue": "",
     "output_type": "error",
     "traceback": [
      "\u001b[1;31mThe Kernel crashed while executing code in the current cell or a previous cell. \n",
      "\u001b[1;31mPlease review the code in the cell(s) to identify a possible cause of the failure. \n",
      "\u001b[1;31mClick <a href='https://aka.ms/vscodeJupyterKernelCrash'>here</a> for more info. \n",
      "\u001b[1;31mView Jupyter <a href='command:jupyter.viewOutput'>log</a> for further details."
     ]
    }
   ],
   "source": [
    "IMG_SIZE = (128, 128)\n",
    "\n",
    "# load images from dir\n",
    "def load_images(folder):\n",
    "\timages = []\n",
    "\tfilenames = []\n",
    "\n",
    "\tfor filename in os.listdir(folder):\n",
    "\n",
    "\t\tif filename.endswith('.jpg'):\n",
    "\t\t\timg_path = os.path.join(folder, filename)\n",
    "\n",
    "\t\t\timg = tf.keras.utils.load_img(img_path, target_size=IMG_SIZE)\n",
    "\n",
    "\t\t\t# normalize the data down to [0, 1], 255.0 = max RGB value\n",
    "\t\t\timg_array = tf.keras.utils.img_to_array(img) / 255.0\n",
    "\t\t\timages.append(img_array)\n",
    "\t\t\tfilenames.append(filename)\n",
    "\treturn (np.array(images), filenames)\n",
    "\n",
    "train_images, train_filenames = load_images(TRAIN_DIR)"
   ]
  },
  {
   "cell_type": "code",
   "execution_count": null,
   "id": "67ca856f",
   "metadata": {},
   "outputs": [
    {
     "name": "stdout",
     "output_type": "stream",
     "text": [
      "Epoch 1/5\n",
      "\u001b[1m782/782\u001b[0m \u001b[32m━━━━━━━━━━━━━━━━━━━━\u001b[0m\u001b[37m\u001b[0m \u001b[1m120s\u001b[0m 148ms/step - accuracy: 0.6918 - loss: 0.5786\n",
      "Epoch 2/5\n",
      "\u001b[1m782/782\u001b[0m \u001b[32m━━━━━━━━━━━━━━━━━━━━\u001b[0m\u001b[37m\u001b[0m \u001b[1m120s\u001b[0m 148ms/step - accuracy: 0.6918 - loss: 0.5786\n",
      "Epoch 2/5\n",
      "\u001b[1m782/782\u001b[0m \u001b[32m━━━━━━━━━━━━━━━━━━━━\u001b[0m\u001b[37m\u001b[0m \u001b[1m130s\u001b[0m 166ms/step - accuracy: 0.7830 - loss: 0.4606\n",
      "Epoch 3/5\n",
      "\u001b[1m782/782\u001b[0m \u001b[32m━━━━━━━━━━━━━━━━━━━━\u001b[0m\u001b[37m\u001b[0m \u001b[1m130s\u001b[0m 166ms/step - accuracy: 0.7830 - loss: 0.4606\n",
      "Epoch 3/5\n",
      "\u001b[1m782/782\u001b[0m \u001b[32m━━━━━━━━━━━━━━━━━━━━\u001b[0m\u001b[37m\u001b[0m \u001b[1m124s\u001b[0m 159ms/step - accuracy: 0.8248 - loss: 0.3864\n",
      "\u001b[1m782/782\u001b[0m \u001b[32m━━━━━━━━━━━━━━━━━━━━\u001b[0m\u001b[37m\u001b[0m \u001b[1m124s\u001b[0m 159ms/step - accuracy: 0.8248 - loss: 0.3864\n",
      "Epoch 4/5\n",
      "Epoch 4/5\n",
      "\u001b[1m782/782\u001b[0m \u001b[32m━━━━━━━━━━━━━━━━━━━━\u001b[0m\u001b[37m\u001b[0m \u001b[1m118s\u001b[0m 150ms/step - accuracy: 0.8717 - loss: 0.2970\n",
      "\u001b[1m782/782\u001b[0m \u001b[32m━━━━━━━━━━━━━━━━━━━━\u001b[0m\u001b[37m\u001b[0m \u001b[1m118s\u001b[0m 150ms/step - accuracy: 0.8717 - loss: 0.2970\n",
      "Epoch 5/5\n",
      "Epoch 5/5\n",
      "\u001b[1m782/782\u001b[0m \u001b[32m━━━━━━━━━━━━━━━━━━━━\u001b[0m\u001b[37m\u001b[0m \u001b[1m122s\u001b[0m 156ms/step - accuracy: 0.9196 - loss: 0.1962\n",
      "\u001b[1m782/782\u001b[0m \u001b[32m━━━━━━━━━━━━━━━━━━━━\u001b[0m\u001b[37m\u001b[0m \u001b[1m122s\u001b[0m 156ms/step - accuracy: 0.9196 - loss: 0.1962\n"
     ]
    },
    {
     "data": {
      "image/png": "[encoded data removed]",
      "text/plain": [
       "<Figure size 640x480 with 1 Axes>"
      ]
     },
     "metadata": {},
     "output_type": "display_data"
    }
   ],
   "source": [
    "# assign labels based on filename (assuming 'cat' or 'dog' in filename)\n",
    "def get_label(filename):\n",
    "\tif 'cat' in filename.lower():\n",
    "\t\treturn (0)\n",
    "\telif 'dog' in filename.lower():\n",
    "\t\treturn (1)\n",
    "\telse:\n",
    "\t\treturn (-1)  # Unknown\n",
    "\n",
    "# training labels determining model accuracy for backpropagation\n",
    "train_labels = np.array([get_label(f) for f in train_filenames])\n",
    "\n",
    "# convoluted neural network\n",
    "model = tf.keras.Sequential([\n",
    "\ttf.keras.layers.Input(shape=(128, 128, 3)),\n",
    "\ttf.keras.layers.Conv2D(32, (3, 3), activation='relu'),\n",
    "\ttf.keras.layers.MaxPooling2D(2, 2),\n",
    "\ttf.keras.layers.Conv2D(64, (3, 3), activation='relu'),\n",
    "\ttf.keras.layers.MaxPooling2D(2, 2),\n",
    "\ttf.keras.layers.Flatten(),\n",
    "\ttf.keras.layers.Dense(64, activation='relu'),\n",
    "\ttf.keras.layers.Dense(1, activation='sigmoid')\n",
    "])\n",
    "\n",
    "# compile model\n",
    "model.compile(optimizer='adam', loss='binary_crossentropy', metrics=['accuracy'])\n",
    "\n",
    "# train model\n",
    "history = model.fit(train_images, train_labels, epochs=5, batch_size=32)\n",
    "\n",
    "# plot training loss and accuracy\n",
    "plt.plot(history.history['loss'], label='Loss')\n",
    "plt.plot(history.history['accuracy'], label='Accuracy')\n",
    "plt.xlabel('Epoch')\n",
    "plt.legend()\n",
    "plt.show()\n"
   ]
  },
  {
   "cell_type": "code",
   "execution_count": 3,
   "id": "89025961",
   "metadata": {},
   "outputs": [],
   "source": [
    "# Load the trained model from the specified path\n",
    "model_load_path = \"data/models/cats_vs_dogs_model.keras\"\n",
    "loaded_model = tf.keras.models.load_model(model_load_path)"
   ]
  },
  {
   "cell_type": "code",
   "execution_count": 4,
   "id": "11427b34",
   "metadata": {},
   "outputs": [
    {
     "ename": "NameError",
     "evalue": "name 'train_images' is not defined",
     "output_type": "error",
     "traceback": [
      "\u001b[31m---------------------------------------------------------------------------\u001b[39m",
      "\u001b[31mNameError\u001b[39m                                 Traceback (most recent call last)",
      "\u001b[36mCell\u001b[39m\u001b[36m \u001b[39m\u001b[32mIn[4]\u001b[39m\u001b[32m, line 2\u001b[39m\n\u001b[32m      1\u001b[39m \u001b[38;5;66;03m# pick one image to visualize\u001b[39;00m\n\u001b[32m----> \u001b[39m\u001b[32m2\u001b[39m img = \u001b[43mtrain_images\u001b[49m[\u001b[32m0\u001b[39m]\n\u001b[32m      3\u001b[39m img_batch = np.expand_dims(img, axis=\u001b[32m0\u001b[39m)\n\u001b[32m      5\u001b[39m \u001b[38;5;66;03m# Create a model that outputs the feature maps of the first Conv2D layer\u001b[39;00m\n",
      "\u001b[31mNameError\u001b[39m: name 'train_images' is not defined"
     ]
    }
   ],
   "source": [
    "# pick one image to visualize\n",
    "img = train_images[0]\n",
    "img_batch = np.expand_dims(img, axis=0)\n",
    "\n",
    "# Create a model that outputs the feature maps of the first Conv2D layer\n",
    "layer_outputs = [layer.output for layer in model.layers if isinstance(layer, tf.keras.layers.Conv2D)]\n",
    "activation_model = tf.keras.models.Model(inputs=model.layers[0].input, outputs=layer_outputs[0])\n",
    "\n",
    "# Get the feature maps\n",
    "feature_maps = activation_model.predict(img_batch)[0]\n",
    "\n",
    "# Plot the first 32 feature maps\n",
    "import matplotlib.pyplot as plt\n",
    "fig, axes = plt.subplots(4, 8, figsize=(12, 6))\n",
    "for i, ax in enumerate(axes.flat):\n",
    "\tax.imshow(feature_maps[:, :, i], cmap='viridis')\n",
    "\tax.axis('off')\n",
    "plt.tight_layout()\n",
    "plt.show()"
   ]
  },
  {
   "cell_type": "code",
   "execution_count": null,
   "id": "a54a43f7",
   "metadata": {},
   "outputs": [],
   "source": [
    "# Load test images\n",
    "test_images, test_filenames = load_images(TEST_DIR)\n",
    "\n",
    "# Predict using the trained model\n",
    "preds = model.predict(test_images).flatten()\n",
    "pred_labels = (preds > 0.5).astype(int)\n",
    "\n",
    "# Get true labels from filenames\n",
    "true_labels = np.array([get_label(f) for f in test_filenames])\n",
    "\n",
    "# Display each image, prediction, and true label\n",
    "for idx in range(len(test_images)):\n",
    "\tplt.imshow(test_images[idx])\n",
    "\tplt.axis('off')\n",
    "\tpred = 'Dog' if pred_labels[idx] == 1 else 'Cat'\n",
    "\ttrue = 'Dog' if true_labels[idx] == 1 else 'Cat'\n",
    "\tcolor = 'green' if pred_labels[idx] == true_labels[idx] else 'red'\n",
    "\tplt.title(f\"Predicted: {pred}\\nActual: {true}\", color=color)\n",
    "\tplt.show()"
   ]
  },
  {
   "cell_type": "code",
   "execution_count": null,
   "id": "15ee5763",
   "metadata": {
    "vscode": {
     "languageId": "markdown"
    }
   },
   "outputs": [
    {
     "ename": "SystemExit",
     "evalue": "Model saved. Please restart the kernel to reset the code.",
     "output_type": "error",
     "traceback": [
      "An exception has occurred, use %tb to see the full traceback.\n",
      "\u001b[31mSystemExit\u001b[39m\u001b[31m:\u001b[39m Model saved. Please restart the kernel to reset the code.\n"
     ]
    },
    {
     "name": "stderr",
     "output_type": "stream",
     "text": [
      "C:\\Users\\Dowi\\AppData\\Roaming\\Python\\Python313\\site-packages\\IPython\\core\\interactiveshell.py:3707: UserWarning: To exit: use 'exit', 'quit', or Ctrl-D.\n",
      "  warn(\"To exit: use 'exit', 'quit', or Ctrl-D.\", stacklevel=1)\n"
     ]
    }
   ],
   "source": [
    "model_save_path = \"data/models/cats_vs_dogs_model.keras\"\n",
    "model.save(model_save_path)"
   ]
  }
 ],
 "metadata": {
  "kernelspec": {
   "display_name": "Python 3",
   "language": "python",
   "name": "python3"
  },
  "language_info": {
   "codemirror_mode": {
    "name": "ipython",
    "version": 3
   },
   "file_extension": ".py",
   "mimetype": "text/x-python",
   "name": "python",
   "nbconvert_exporter": "python",
   "pygments_lexer": "ipython3",
   "version": "3.13.0"
  }
 },
 "nbformat": 4,
 "nbformat_minor": 5
}
