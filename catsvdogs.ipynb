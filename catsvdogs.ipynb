{
 "cells": [
  {
   "cell_type": "markdown",
   "id": "74991ef2",
   "metadata": {},
   "source": [
    "Import libraries and define directories for data\n",
    "\n",
    "- tensorflow for image loading, layer formation & model compilation \n",
    "- numpy for matrix multiplication\n",
    "- matplotlib for visualization"
   ]
  },
  {
   "cell_type": "code",
   "execution_count": null,
   "id": "76b43ba5",
   "metadata": {},
   "outputs": [],
   "source": [
    "import tensorflow as tf\n",
    "import numpy as np\n",
    "import os\n",
    "import matplotlib.pyplot as plt\n",
    "\n",
    "# variables for directories (windows)\n",
    "TEST_DIR = \"C:/Users/Dowi/PycharmProjects/cats_vs_dogs/data/test/test1\"\n",
    "TRAIN_DIR = \"C:/Users/Dowi/PycharmProjects/cats_vs_dogs/data/train/train\""
   ]
  },
  {
   "cell_type": "markdown",
   "id": "3adf7833",
   "metadata": {},
   "source": [
    "Standardize images for processing\n",
    "\n",
    "- Why? Images will 100% have different sizes (view /data/test/test1/)\n",
    "- To counter that, initialize values for the image\n",
    "- Create an NP array from the utils of TF "
   ]
  },
  {
   "cell_type": "code",
   "execution_count": null,
   "id": "9da54d40",
   "metadata": {},
   "outputs": [],
   "source": [
    "IMG_SIZE = (128, 128)\n",
    "\n",
    "# load images from dir\n",
    "def load_images(folder):\n",
    "\timages = []\n",
    "\tfilenames = []\n",
    "\n",
    "\tfor filename in os.listdir(folder):\n",
    "\n",
    "\t\tif filename.endswith('.jpg'):\n",
    "\t\t\timg_path = os.path.join(folder, filename)\n",
    "\n",
    "\t\t\timg = tf.keras.utils.load_img(img_path, target_size=IMG_SIZE)\n",
    "\n",
    "\t\t\t# normalize the data down to [0, 1], 255.0 = max RGB value\n",
    "\t\t\timg_array = tf.keras.utils.img_to_array(img) / 255.0\n",
    "\t\t\timages.append(img_array)\n",
    "\t\t\tfilenames.append(filename)\n",
    "\treturn (np.array(images), filenames)\n",
    "\n",
    "train_images, train_filenames = load_images(TRAIN_DIR)"
   ]
  },
  {
   "cell_type": "markdown",
   "id": "6e120221",
   "metadata": {},
   "source": [
    "Get the labels of each image\n",
    "- Cat will be 0\n",
    "- Dog will be 1\n",
    "- Unknown = -1\n",
    "\n",
    "Assign the labels to train labels\n",
    "\n",
    "CNN is written on model with relu activation and then a final sigmoid neuron\n",
    "\n",
    "Compile and fit the model to train.\n",
    "\n",
    "Use Matplotlib to display history"
   ]
  },
  {
   "cell_type": "code",
   "execution_count": null,
   "id": "c1b1534b",
   "metadata": {},
   "outputs": [],
   "source": [
    "# assign labels based on filename (assuming 'cat' or 'dog' in filename)\n",
    "def get_label(filename):\n",
    "\tif 'cat' in filename.lower():\n",
    "\t\treturn (0)\n",
    "\telif 'dog' in filename.lower():\n",
    "\t\treturn (1)\n",
    "\telse:\n",
    "\t\treturn (-1)  # Unknown\n",
    "\n",
    "# training labels determining model accuracy for backpropagation\n",
    "train_labels = np.array([get_label(f) for f in train_filenames])\n",
    "\n",
    "# convoluted neural network\n",
    "model = tf.keras.Sequential([\n",
    "\ttf.keras.layers.Input(shape=(128, 128, 3)),\n",
    "\ttf.keras.layers.Conv2D(32, (3, 3), activation='relu'),\n",
    "\ttf.keras.layers.MaxPooling2D(2, 2),\n",
    "\ttf.keras.layers.Conv2D(64, (3, 3), activation='relu'),\n",
    "\ttf.keras.layers.MaxPooling2D(2, 2),\n",
    "\ttf.keras.layers.Flatten(),\n",
    "\ttf.keras.layers.Dense(64, activation='relu'),\n",
    "\ttf.keras.layers.Dense(1, activation='sigmoid')\n",
    "])\n",
    "\n",
    "# compile model\n",
    "model.compile(optimizer='adam', loss='binary_crossentropy', metrics=['accuracy'])\n",
    "\n",
    "# train model\n",
    "history = model.fit(train_images, train_labels, epochs=5, batch_size=32)\n",
    "\n",
    "# plot training loss and accuracy\n",
    "plt.plot(history.history['loss'], label='Loss')\n",
    "plt.plot(history.history['accuracy'], label='Accuracy')\n",
    "plt.xlabel('Epoch')\n",
    "plt.legend()\n",
    "plt.show()"
   ]
  },
  {
   "cell_type": "markdown",
   "id": "01683375",
   "metadata": {},
   "source": [
    "For the testing images, same logic but do separate matplotlib display"
   ]
  },
  {
   "cell_type": "code",
   "execution_count": null,
   "id": "77cff131",
   "metadata": {},
   "outputs": [],
   "source": [
    "# Load test images\n",
    "test_images, test_filenames = load_images(TEST_DIR)\n",
    "\n",
    "# Predict using the trained model\n",
    "preds = model.predict(test_images).flatten()\n",
    "pred_labels = (preds > 0.5).astype(int)\n",
    "\n",
    "# Get true labels from filenames\n",
    "true_labels = np.array([get_label(f) for f in test_filenames])\n",
    "\n",
    "# Display each image, prediction, and true label\n",
    "for idx in range(len(test_images)):\n",
    "\tplt.imshow(test_images[idx])\n",
    "\tplt.axis('off')\n",
    "\tpred = 'Dog' if pred_labels[idx] == 1 else 'Cat'\n",
    "\ttrue = 'Dog' if true_labels[idx] == 1 else 'Cat'\n",
    "\tcolor = 'green' if pred_labels[idx] == true_labels[idx] else 'red'\n",
    "\tplt.title(f\"Predicted: {pred}\\nActual: {true}\", color=color)\n",
    "\tplt.show()"
   ]
  }
 ],
 "metadata": {
  "language_info": {
   "name": "python"
  }
 },
 "nbformat": 4,
 "nbformat_minor": 5
}
